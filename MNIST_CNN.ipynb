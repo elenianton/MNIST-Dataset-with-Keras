{
  "nbformat": 4,
  "nbformat_minor": 0,
  "metadata": {
    "colab": {
      "name": "MACHINE_EX03_CNN .ipynb",
      "provenance": []
    },
    "kernelspec": {
      "display_name": "Python 3",
      "language": "python",
      "name": "python3"
    },
    "language_info": {
      "codemirror_mode": {
        "name": "ipython",
        "version": 3
      },
      "file_extension": ".py",
      "mimetype": "text/x-python",
      "name": "python",
      "nbconvert_exporter": "python",
      "pygments_lexer": "ipython3",
      "version": "3.8.5"
    },
    "accelerator": "GPU"
  },
  "cells": [
    {
      "cell_type": "markdown",
      "metadata": {
        "id": "PRQA_DTpM8jC"
      },
      "source": [
        "**M916 - Machine Learning\n",
        "Coursework 3 CONVOLUTIONAL NEUTRAL NETWORK**"
      ]
    },
    {
      "cell_type": "markdown",
      "metadata": {
        "id": "XY6QvSIjOEwP"
      },
      "source": [
        "**2. CONVOLUTIONAL NEUTRAL NETWORK**"
      ]
    },
    {
      "cell_type": "code",
      "metadata": {
        "id": "3v4NC34up11N"
      },
      "source": [
        "import numpy as np\n",
        "from tensorflow.keras.models import Sequential\n",
        "from tensorflow.keras.layers import Dense\n",
        "from tensorflow.keras.utils import to_categorical #one hot encoding\n",
        "from tensorflow.keras.datasets import mnist\n",
        "import tensorflow as tf\n",
        "from tensorflow.keras import datasets, layers, models\n",
        "from tensorflow import keras"
      ],
      "execution_count": 174,
      "outputs": []
    },
    {
      "cell_type": "markdown",
      "metadata": {
        "id": "DwNRt9343pyK"
      },
      "source": [
        "*LOAD AND NORMALIZE DATASET 'MNIST'*"
      ]
    },
    {
      "cell_type": "code",
      "metadata": {
        "id": "YBqOKX0erU4M"
      },
      "source": [
        "(train_images, train_labels), (test_images, test_labels) = mnist.load_data() #load data and split them into train and test set"
      ],
      "execution_count": 175,
      "outputs": []
    },
    {
      "cell_type": "markdown",
      "metadata": {
        "id": "Z0YixUeUZCa1"
      },
      "source": [
        "*RESHAPE AND NORMALIZE DATASET MNIST*\n",
        "\n"
      ]
    },
    {
      "cell_type": "code",
      "metadata": {
        "id": "7xWwrVQX9q8W"
      },
      "source": [
        "train_images= train_images.reshape(-1,28,28,1) #60000x28x28 x1\n",
        "test_images=test_images.reshape(-1,28,28,1)\n",
        "\n",
        "train_images.astype('float32') #make them float numbers\n",
        "test_images.astype('float32')\n",
        "train_images, test_images = train_images / 255 , test_images / 255 # normalize data to the range 0-1\n",
        "\n",
        "train_labels= to_categorical(train_labels) #one hot encoding\n",
        "test_labels= to_categorical(test_labels)"
      ],
      "execution_count": 176,
      "outputs": []
    },
    {
      "cell_type": "markdown",
      "metadata": {
        "id": "Nem3I2uQlYek"
      },
      "source": [
        "*Build a model*\n",
        "- A convolutional layer with 63 kernels\n",
        "- A convolutional layer with 32 kernels\n",
        "- A flatten layer\n",
        "- A fully connected layer with 128 neurons\n",
        "- A dropout layer\n",
        "- A fully connected layer with 10 neurons (1 per class)"
      ]
    },
    {
      "cell_type": "code",
      "metadata": {
        "id": "aBN2dIJUlfJ_",
        "colab": {
          "base_uri": "https://localhost:8080/"
        },
        "outputId": "35457f10-7eae-4d0b-8821-b36fa24bd30b"
      },
      "source": [
        "model_conv= models.Sequential()\n",
        "model_conv.add(layers.Conv2D(64, (3, 3), activation='relu',input_shape=(28, 28,1)))\n",
        "#model_conv.add(layers.MaxPooling2D((2, 2)))\n",
        "model_conv.add(layers.Conv2D(32, (3, 3), activation='relu'))\n",
        "#model_conv.add(layers.MaxPooling2D((2, 2)))\n",
        "model_conv.add(layers.Flatten())\n",
        "model_conv.add(layers.Dense(128, activation='relu'))\n",
        "model_conv.add(layers.Dropout(0.3)) #for overfitting\n",
        "model_conv.add(layers.Dense(10, activation='softmax'))\n",
        "\n",
        "model_conv.summary()"
      ],
      "execution_count": 177,
      "outputs": [
        {
          "output_type": "stream",
          "text": [
            "Model: \"sequential_16\"\n",
            "_________________________________________________________________\n",
            "Layer (type)                 Output Shape              Param #   \n",
            "=================================================================\n",
            "conv2d_32 (Conv2D)           (None, 26, 26, 64)        640       \n",
            "_________________________________________________________________\n",
            "conv2d_33 (Conv2D)           (None, 24, 24, 32)        18464     \n",
            "_________________________________________________________________\n",
            "flatten_16 (Flatten)         (None, 18432)             0         \n",
            "_________________________________________________________________\n",
            "dense_32 (Dense)             (None, 128)               2359424   \n",
            "_________________________________________________________________\n",
            "dropout_16 (Dropout)         (None, 128)               0         \n",
            "_________________________________________________________________\n",
            "dense_33 (Dense)             (None, 10)                1290      \n",
            "=================================================================\n",
            "Total params: 2,379,818\n",
            "Trainable params: 2,379,818\n",
            "Non-trainable params: 0\n",
            "_________________________________________________________________\n"
          ],
          "name": "stdout"
        }
      ]
    },
    {
      "cell_type": "markdown",
      "metadata": {
        "id": "5FilxwcNlkVJ"
      },
      "source": [
        "*Compile and train CNN model*"
      ]
    },
    {
      "cell_type": "code",
      "metadata": {
        "colab": {
          "base_uri": "https://localhost:8080/"
        },
        "id": "6Kxk5PslltMh",
        "outputId": "58706e28-b532-4d42-89ea-df4b6969c6ce"
      },
      "source": [
        "opt= keras.optimizers.Adam(learning_rate=0.001) #fixing learning rate value\n",
        "model_conv.compile(loss= 'categorical_crossentropy', optimizer=opt, metrics=['accuracy'])\n",
        "\n",
        "history = model_conv.fit (train_images, train_labels, epochs=20, batch_size=120, validation_split=0.1)"
      ],
      "execution_count": 178,
      "outputs": [
        {
          "output_type": "stream",
          "text": [
            "Epoch 1/20\n",
            "450/450 [==============================] - 4s 9ms/step - loss: 0.1896 - accuracy: 0.9417 - val_loss: 0.0465 - val_accuracy: 0.9862\n",
            "Epoch 2/20\n",
            "450/450 [==============================] - 4s 8ms/step - loss: 0.0576 - accuracy: 0.9814 - val_loss: 0.0409 - val_accuracy: 0.9878\n",
            "Epoch 3/20\n",
            "450/450 [==============================] - 4s 8ms/step - loss: 0.0387 - accuracy: 0.9879 - val_loss: 0.0424 - val_accuracy: 0.9888\n",
            "Epoch 4/20\n",
            "450/450 [==============================] - 4s 8ms/step - loss: 0.0303 - accuracy: 0.9901 - val_loss: 0.0351 - val_accuracy: 0.9908\n",
            "Epoch 5/20\n",
            "450/450 [==============================] - 4s 8ms/step - loss: 0.0218 - accuracy: 0.9934 - val_loss: 0.0363 - val_accuracy: 0.9910\n",
            "Epoch 6/20\n",
            "450/450 [==============================] - 4s 8ms/step - loss: 0.0182 - accuracy: 0.9939 - val_loss: 0.0421 - val_accuracy: 0.9887\n",
            "Epoch 7/20\n",
            "450/450 [==============================] - 4s 8ms/step - loss: 0.0145 - accuracy: 0.9952 - val_loss: 0.0367 - val_accuracy: 0.9923\n",
            "Epoch 8/20\n",
            "450/450 [==============================] - 4s 8ms/step - loss: 0.0109 - accuracy: 0.9964 - val_loss: 0.0498 - val_accuracy: 0.9890\n",
            "Epoch 9/20\n",
            "450/450 [==============================] - 4s 8ms/step - loss: 0.0108 - accuracy: 0.9962 - val_loss: 0.0471 - val_accuracy: 0.9908\n",
            "Epoch 10/20\n",
            "450/450 [==============================] - 4s 8ms/step - loss: 0.0098 - accuracy: 0.9966 - val_loss: 0.0415 - val_accuracy: 0.9912\n",
            "Epoch 11/20\n",
            "450/450 [==============================] - 4s 8ms/step - loss: 0.0094 - accuracy: 0.9969 - val_loss: 0.0436 - val_accuracy: 0.9915\n",
            "Epoch 12/20\n",
            "450/450 [==============================] - 4s 8ms/step - loss: 0.0086 - accuracy: 0.9972 - val_loss: 0.0445 - val_accuracy: 0.9908\n",
            "Epoch 13/20\n",
            "450/450 [==============================] - 4s 8ms/step - loss: 0.0096 - accuracy: 0.9968 - val_loss: 0.0521 - val_accuracy: 0.9897\n",
            "Epoch 14/20\n",
            "450/450 [==============================] - 4s 8ms/step - loss: 0.0065 - accuracy: 0.9980 - val_loss: 0.0491 - val_accuracy: 0.9902\n",
            "Epoch 15/20\n",
            "450/450 [==============================] - 4s 8ms/step - loss: 0.0075 - accuracy: 0.9974 - val_loss: 0.0462 - val_accuracy: 0.9913\n",
            "Epoch 16/20\n",
            "450/450 [==============================] - 4s 8ms/step - loss: 0.0067 - accuracy: 0.9978 - val_loss: 0.0438 - val_accuracy: 0.9923\n",
            "Epoch 17/20\n",
            "450/450 [==============================] - 4s 8ms/step - loss: 0.0046 - accuracy: 0.9985 - val_loss: 0.0558 - val_accuracy: 0.9922\n",
            "Epoch 18/20\n",
            "450/450 [==============================] - 4s 8ms/step - loss: 0.0062 - accuracy: 0.9977 - val_loss: 0.0507 - val_accuracy: 0.9927\n",
            "Epoch 19/20\n",
            "450/450 [==============================] - 4s 8ms/step - loss: 0.0058 - accuracy: 0.9981 - val_loss: 0.0594 - val_accuracy: 0.9913\n",
            "Epoch 20/20\n",
            "450/450 [==============================] - 4s 8ms/step - loss: 0.0040 - accuracy: 0.9986 - val_loss: 0.0555 - val_accuracy: 0.9913\n"
          ],
          "name": "stdout"
        }
      ]
    },
    {
      "cell_type": "markdown",
      "metadata": {
        "id": "WdXpRe-qlyFe"
      },
      "source": [
        "*Evaluate the model using test set*"
      ]
    },
    {
      "cell_type": "code",
      "metadata": {
        "colab": {
          "base_uri": "https://localhost:8080/"
        },
        "id": "qEuo6snUl2bG",
        "outputId": "c906a3a4-b443-4dd4-9964-83aa0e7b0a2b"
      },
      "source": [
        "test_loss, test_acc= model_conv.evaluate(test_images, test_labels)"
      ],
      "execution_count": 179,
      "outputs": [
        {
          "output_type": "stream",
          "text": [
            "313/313 [==============================] - 1s 3ms/step - loss: 0.0504 - accuracy: 0.9892\n"
          ],
          "name": "stdout"
        }
      ]
    },
    {
      "cell_type": "markdown",
      "metadata": {
        "id": "FiEZ-hOJl6R1"
      },
      "source": [
        "*Plot accuracy and loss for train and validation set*\n"
      ]
    },
    {
      "cell_type": "code",
      "metadata": {
        "id": "uF2zpjOGq-hn"
      },
      "source": [
        "import matplotlib.pyplot as plt"
      ],
      "execution_count": 180,
      "outputs": []
    },
    {
      "cell_type": "code",
      "metadata": {
        "colab": {
          "base_uri": "https://localhost:8080/",
          "height": 573
        },
        "id": "sbL6fwXOmMlB",
        "outputId": "e7d96a3b-cb96-4d9b-cb01-62e01ce47537"
      },
      "source": [
        "def show_train_history ( history , train , validation ):\n",
        "\n",
        "  plt . plot ( history . history [ train ])\n",
        "  plt . plot ( history . history [ validation])\n",
        "  plt . title ('History')\n",
        "  plt . ylabel ( train )\n",
        "  plt . xlabel ('Epoch')\n",
        "  plt . legend ([ 'train', 'validation'], loc ='upper left')\n",
        "  if train=='accuracy' and validation=='val_accuracy':\n",
        "      plt.ylim([0.70, 1])\n",
        "  else:\n",
        "      plt.ylim([0, 0.5])\n",
        "\n",
        "  plt . show ()\n",
        "\n",
        "show_train_history ( history ,'accuracy', 'val_accuracy') \n",
        "show_train_history ( history ,'loss', 'val_loss') "
      ],
      "execution_count": 181,
      "outputs": [
        {
          "output_type": "display_data",
          "data": {
            "image/png": "[encoded data removed]",
            "text/plain": [
              "<Figure size 432x288 with 1 Axes>"
            ]
          },
          "metadata": {
            "tags": [],
            "needs_background": "light"
          }
        },
        {
          "output_type": "display_data",
          "data": {
            "image/png": "[encoded data removed]",
            "text/plain": [
              "<Figure size 432x288 with 1 Axes>"
            ]
          },
          "metadata": {
            "tags": [],
            "needs_background": "light"
          }
        }
      ]
    },
    {
      "cell_type": "code",
      "metadata": {
        "colab": {
          "base_uri": "https://localhost:8080/"
        },
        "id": "4U20slkDxwG1",
        "outputId": "a0cfb116-9c2b-414b-9297-65497965b3ee"
      },
      "source": [
        "print(test_acc)"
      ],
      "execution_count": 182,
      "outputs": [
        {
          "output_type": "stream",
          "text": [
            "0.9891999959945679\n"
          ],
          "name": "stdout"
        }
      ]
    },
    {
      "cell_type": "markdown",
      "metadata": {
        "id": "Pdv4lxFDmY9D"
      },
      "source": [
        "*Confusion Matrix for CNN*"
      ]
    },
    {
      "cell_type": "code",
      "metadata": {
        "colab": {
          "base_uri": "https://localhost:8080/",
          "height": 350
        },
        "id": "e1HGyPA5eucd",
        "outputId": "60c50984-4e0c-4261-effb-92b8c49a2467"
      },
      "source": [
        "from sklearn.metrics import classification_report, confusion_matrix\n",
        "import numpy as np\n",
        "import seaborn as sns\n",
        "from sklearn.metrics import accuracy_score\n",
        "\n",
        "y_test_arg=np.argmax(test_labels,axis=1)\n",
        "Y_pred = np.argmax(model_conv.predict(test_images),axis=1)\n",
        "confusion=confusion_matrix(y_test_arg, Y_pred)\n",
        "\n",
        "f, ax = plt.subplots(figsize=(5,5))\n",
        "sns.heatmap(confusion,annot = True, linewidths=0.5,linecolor=\"black\",fmt=\".0f\",ax=ax)\n",
        "plt.xlabel(\"Predictions\")\n",
        "plt.ylabel(\"Actual\")\n",
        "plt.title(\"Confusion Matrix for CNN\")\n",
        "plt.show()\n"
      ],
      "execution_count": 183,
      "outputs": [
        {
          "output_type": "display_data",
          "data": {
            "image/png": "[encoded data removed]",
            "text/plain": [
              "<Figure size 360x360 with 2 Axes>"
            ]
          },
          "metadata": {
            "tags": [],
            "needs_background": "light"
          }
        }
      ]
    },
    {
      "cell_type": "markdown",
      "metadata": {
        "id": "rI133C96tIcX"
      },
      "source": [
        "*Visualise 5 random pictures with their predictions*\n",
        "(just for a trial)"
      ]
    },
    {
      "cell_type": "code",
      "metadata": {
        "colab": {
          "base_uri": "https://localhost:8080/",
          "height": 1000
        },
        "id": "c1KDjQd7tV_1",
        "outputId": "4c94d3f6-bf98-4e2a-bae7-149133ae52a0"
      },
      "source": [
        "n_images = 5\n",
        "test_images = test_images[:n_images]\n",
        "predictions = model_conv(test_images)\n",
        "\n",
        "# Display image and model prediction.\n",
        "for i in range(n_images):\n",
        "    plt.imshow(np.reshape(test_images[i], [28, 28]), cmap='gray')\n",
        "    plt.show()\n",
        "    print(\"Model prediction: %i\" % np.argmax(predictions.numpy()[i]))"
      ],
      "execution_count": 184,
      "outputs": [
        {
          "output_type": "display_data",
          "data": {
            "image/png": "[encoded data removed]",
            "text/plain": [
              "<Figure size 432x288 with 1 Axes>"
            ]
          },
          "metadata": {
            "tags": [],
            "needs_background": "light"
          }
        },
        {
          "output_type": "stream",
          "text": [
            "Model prediction: 7\n"
          ],
          "name": "stdout"
        },
        {
          "output_type": "display_data",
          "data": {
            "image/png": "[encoded data removed]",
            "text/plain": [
              "<Figure size 432x288 with 1 Axes>"
            ]
          },
          "metadata": {
            "tags": [],
            "needs_background": "light"
          }
        },
        {
          "output_type": "stream",
          "text": [
            "Model prediction: 2\n"
          ],
          "name": "stdout"
        },
        {
          "output_type": "display_data",
          "data": {
            "image/png": "[encoded data removed]",
            "text/plain": [
              "<Figure size 432x288 with 1 Axes>"
            ]
          },
          "metadata": {
            "tags": [],
            "needs_background": "light"
          }
        },
        {
          "output_type": "stream",
          "text": [
            "Model prediction: 1\n"
          ],
          "name": "stdout"
        },
        {
          "output_type": "display_data",
          "data": {
            "image/png": "[encoded data removed]",
            "text/plain": [
              "<Figure size 432x288 with 1 Axes>"
            ]
          },
          "metadata": {
            "tags": [],
            "needs_background": "light"
          }
        },
        {
          "output_type": "stream",
          "text": [
            "Model prediction: 0\n"
          ],
          "name": "stdout"
        },
        {
          "output_type": "display_data",
          "data": {
            "image/png": "[encoded data removed]",
            "text/plain": [
              "<Figure size 432x288 with 1 Axes>"
            ]
          },
          "metadata": {
            "tags": [],
            "needs_background": "light"
          }
        },
        {
          "output_type": "stream",
          "text": [
            "Model prediction: 4\n"
          ],
          "name": "stdout"
        }
      ]
    },
    {
      "cell_type": "code",
      "metadata": {
        "id": "OqRsNctTM8ji"
      },
      "source": [
        ""
      ],
      "execution_count": 184,
      "outputs": []
    },
    {
      "cell_type": "code",
      "metadata": {
        "id": "gBsivp9DM8jj"
      },
      "source": [
        ""
      ],
      "execution_count": 184,
      "outputs": []
    },
    {
      "cell_type": "code",
      "metadata": {
        "id": "bTed6YtZM8jl"
      },
      "source": [
        ""
      ],
      "execution_count": 184,
      "outputs": []
    }
  ]
}