{
  "nbformat": 4,
  "nbformat_minor": 0,
  "metadata": {
    "colab": {
      "name": "MACHINE_EX03_Νeutral_Network .ipynb",
      "provenance": [],
      "collapsed_sections": []
    },
    "kernelspec": {
      "display_name": "Python 3",
      "language": "python",
      "name": "python3"
    },
    "language_info": {
      "codemirror_mode": {
        "name": "ipython",
        "version": 3
      },
      "file_extension": ".py",
      "mimetype": "text/x-python",
      "name": "python",
      "nbconvert_exporter": "python",
      "pygments_lexer": "ipython3",
      "version": "3.8.5"
    }
  },
  "cells": [
    {
      "cell_type": "markdown",
      "metadata": {
        "id": "OrTvOCm3-8Yn"
      },
      "source": [
        "**M916 - Machine Learning\n",
        "Coursework 3\n",
        "NEUTRAL NETRWORK**"
      ]
    },
    {
      "cell_type": "code",
      "metadata": {
        "id": "3v4NC34up11N"
      },
      "source": [
        "import numpy as np\n",
        "from tensorflow.keras.models import Sequential\n",
        "from tensorflow.keras.layers import Dense\n",
        "from tensorflow.keras.utils import to_categorical #one hot encoding\n",
        "from tensorflow.keras.datasets import mnist\n",
        "from numpy.random import seed\n",
        "import tensorflow as tf\n",
        "from tensorflow import keras\n",
        "from tensorflow.keras import layers\n"
      ],
      "execution_count": 46,
      "outputs": []
    },
    {
      "cell_type": "markdown",
      "metadata": {
        "id": "BGltw2zxy71H"
      },
      "source": [
        "**1. ARTIFICIAL NEUTRAL NETWORK**"
      ]
    },
    {
      "cell_type": "markdown",
      "metadata": {
        "id": "DwNRt9343pyK"
      },
      "source": [
        "*LOAD AND NORMALIZE DATASET 'MNIST'*"
      ]
    },
    {
      "cell_type": "code",
      "metadata": {
        "id": "YBqOKX0erU4M"
      },
      "source": [
        "seed(123) #set seed method\n",
        "tf.random.set_seed(123)\n",
        "\n",
        "(train_images, train_labels), (test_images, test_labels) = mnist.load_data() #load data and split them into train and test set"
      ],
      "execution_count": 47,
      "outputs": []
    },
    {
      "cell_type": "code",
      "metadata": {
        "id": "j7oivLu0rU5k"
      },
      "source": [
        "# Normalize the images.\n",
        "train_images = (train_images / 255) - 0.5 #0.5 for symmetry\n",
        "test_images = (test_images / 255) - 0.5\n",
        "\n",
        "# Turn the images into vectors \n",
        "train_images = train_images.reshape((-1, 784)) #784 = number of features, 28x28\n",
        "test_images = test_images.reshape((-1, 784))\n",
        "\n",
        "#print(len(test_labels))"
      ],
      "execution_count": 48,
      "outputs": []
    },
    {
      "cell_type": "markdown",
      "metadata": {
        "id": "LnnFRSPDzUi6"
      },
      "source": [
        "*CREATE A MODEL*\n",
        "\n",
        "-   Sequential, σειριακή εκτέλεση\n",
        "-   1st Dense layer (256 neurons), act. function 'Relu': output the input directly if it is positive, otherwise, it will output zero\n",
        "-   2nd Dense layer (128 nerons), act. function 'Relu'\n",
        "-   Final Layer, Softmax function:  normalization into a probability distribution\n",
        "\n"
      ]
    },
    {
      "cell_type": "code",
      "metadata": {
        "id": "PLtmsa9GrU9b"
      },
      "source": [
        "# Build the model.\n",
        "model = Sequential()\n",
        "model.add(Dense(256, activation='relu', input_shape=(784,)))\n",
        "model.add(Dense(128, activation='relu'))\n",
        "model.add(Dense(10, activation='softmax')) "
      ],
      "execution_count": 49,
      "outputs": []
    },
    {
      "cell_type": "code",
      "metadata": {
        "colab": {
          "base_uri": "https://localhost:8080/"
        },
        "id": "_4_Vu5AkA7Gj",
        "outputId": "557827c0-3102-4cac-b528-710f55df12f8"
      },
      "source": [
        "model.summary()"
      ],
      "execution_count": 50,
      "outputs": [
        {
          "output_type": "stream",
          "text": [
            "Model: \"sequential_3\"\n",
            "_________________________________________________________________\n",
            "Layer (type)                 Output Shape              Param #   \n",
            "=================================================================\n",
            "dense_9 (Dense)              (None, 256)               200960    \n",
            "_________________________________________________________________\n",
            "dense_10 (Dense)             (None, 128)               32896     \n",
            "_________________________________________________________________\n",
            "dense_11 (Dense)             (None, 10)                1290      \n",
            "=================================================================\n",
            "Total params: 235,146\n",
            "Trainable params: 235,146\n",
            "Non-trainable params: 0\n",
            "_________________________________________________________________\n"
          ],
          "name": "stdout"
        }
      ]
    },
    {
      "cell_type": "markdown",
      "metadata": {
        "id": "BQvZJnrz792Q"
      },
      "source": [
        "*Compile data*\n"
      ]
    },
    {
      "cell_type": "code",
      "metadata": {
        "id": "N-rTpUX-rVCr"
      },
      "source": [
        "# Compile the model.\n",
        "\n",
        "opt = keras.optimizers.Adam(learning_rate=0.001) #fixing learning_rate hyperparameter\n",
        "\n",
        "model.compile(optimizer= opt, loss= 'categorical_crossentropy', metrics=['accuracy'])"
      ],
      "execution_count": 51,
      "outputs": []
    },
    {
      "cell_type": "markdown",
      "metadata": {
        "id": "QeJMAqU9-azd"
      },
      "source": [
        "*Fit model with train set*"
      ]
    },
    {
      "cell_type": "code",
      "metadata": {
        "colab": {
          "base_uri": "https://localhost:8080/"
        },
        "id": "nvsjyFbCrVEE",
        "outputId": "a7b9b92e-488d-43f5-eb70-ad5c13213a6f"
      },
      "source": [
        "# Train the model\n",
        "train_history= model.fit(train_images, to_categorical(train_labels), epochs=20 , batch_size=120,validation_split=0.1)"
      ],
      "execution_count": 52,
      "outputs": [
        {
          "output_type": "stream",
          "text": [
            "Epoch 1/20\n",
            "450/450 [==============================] - 3s 6ms/step - loss: 0.3654 - accuracy: 0.8911 - val_loss: 0.1559 - val_accuracy: 0.9557\n",
            "Epoch 2/20\n",
            "450/450 [==============================] - 2s 5ms/step - loss: 0.1616 - accuracy: 0.9511 - val_loss: 0.1125 - val_accuracy: 0.9680\n",
            "Epoch 3/20\n",
            "450/450 [==============================] - 2s 5ms/step - loss: 0.1136 - accuracy: 0.9649 - val_loss: 0.1070 - val_accuracy: 0.9678\n",
            "Epoch 4/20\n",
            "450/450 [==============================] - 2s 5ms/step - loss: 0.0931 - accuracy: 0.9705 - val_loss: 0.0836 - val_accuracy: 0.9750\n",
            "Epoch 5/20\n",
            "450/450 [==============================] - 2s 5ms/step - loss: 0.0791 - accuracy: 0.9739 - val_loss: 0.0970 - val_accuracy: 0.9722\n",
            "Epoch 6/20\n",
            "450/450 [==============================] - 2s 5ms/step - loss: 0.0623 - accuracy: 0.9806 - val_loss: 0.0724 - val_accuracy: 0.9783\n",
            "Epoch 7/20\n",
            "450/450 [==============================] - 2s 5ms/step - loss: 0.0570 - accuracy: 0.9818 - val_loss: 0.0877 - val_accuracy: 0.9755\n",
            "Epoch 8/20\n",
            "450/450 [==============================] - 2s 5ms/step - loss: 0.0495 - accuracy: 0.9837 - val_loss: 0.0736 - val_accuracy: 0.9797\n",
            "Epoch 9/20\n",
            "450/450 [==============================] - 2s 5ms/step - loss: 0.0477 - accuracy: 0.9844 - val_loss: 0.0750 - val_accuracy: 0.9797\n",
            "Epoch 10/20\n",
            "450/450 [==============================] - 2s 5ms/step - loss: 0.0400 - accuracy: 0.9865 - val_loss: 0.0861 - val_accuracy: 0.9770\n",
            "Epoch 11/20\n",
            "450/450 [==============================] - 2s 5ms/step - loss: 0.0387 - accuracy: 0.9868 - val_loss: 0.0773 - val_accuracy: 0.9787\n",
            "Epoch 12/20\n",
            "450/450 [==============================] - 2s 5ms/step - loss: 0.0301 - accuracy: 0.9896 - val_loss: 0.0797 - val_accuracy: 0.9807\n",
            "Epoch 13/20\n",
            "450/450 [==============================] - 2s 5ms/step - loss: 0.0313 - accuracy: 0.9898 - val_loss: 0.0809 - val_accuracy: 0.9800\n",
            "Epoch 14/20\n",
            "450/450 [==============================] - 2s 5ms/step - loss: 0.0266 - accuracy: 0.9912 - val_loss: 0.0821 - val_accuracy: 0.9792\n",
            "Epoch 15/20\n",
            "450/450 [==============================] - 2s 5ms/step - loss: 0.0219 - accuracy: 0.9928 - val_loss: 0.0795 - val_accuracy: 0.9827\n",
            "Epoch 16/20\n",
            "450/450 [==============================] - 2s 5ms/step - loss: 0.0258 - accuracy: 0.9912 - val_loss: 0.0777 - val_accuracy: 0.9828\n",
            "Epoch 17/20\n",
            "450/450 [==============================] - 2s 5ms/step - loss: 0.0231 - accuracy: 0.9922 - val_loss: 0.0930 - val_accuracy: 0.9783\n",
            "Epoch 18/20\n",
            "450/450 [==============================] - 2s 5ms/step - loss: 0.0206 - accuracy: 0.9928 - val_loss: 0.0774 - val_accuracy: 0.9842\n",
            "Epoch 19/20\n",
            "450/450 [==============================] - 2s 5ms/step - loss: 0.0202 - accuracy: 0.9933 - val_loss: 0.0827 - val_accuracy: 0.9803\n",
            "Epoch 20/20\n",
            "450/450 [==============================] - 2s 5ms/step - loss: 0.0159 - accuracy: 0.9941 - val_loss: 0.0886 - val_accuracy: 0.9823\n"
          ],
          "name": "stdout"
        }
      ]
    },
    {
      "cell_type": "markdown",
      "metadata": {
        "id": "cuNGmq_hQpC9"
      },
      "source": [
        "*Εvaluation with test set*"
      ]
    },
    {
      "cell_type": "code",
      "metadata": {
        "colab": {
          "base_uri": "https://localhost:8080/"
        },
        "id": "oD_ccm6ZrVJf",
        "outputId": "aa342d80-31e4-44fd-f389-cec0c56ecd29"
      },
      "source": [
        "test_loss, test_acc= model.evaluate(test_images,to_categorical(test_labels))"
      ],
      "execution_count": 53,
      "outputs": [
        {
          "output_type": "stream",
          "text": [
            "313/313 [==============================] - 1s 2ms/step - loss: 0.0967 - accuracy: 0.9774\n"
          ],
          "name": "stdout"
        }
      ]
    },
    {
      "cell_type": "markdown",
      "metadata": {
        "id": "-G7aSQgidiMF"
      },
      "source": [
        "*Plot accuracy and loss for train and validation set*\n",
        "\n",
        "*   Using \"show_train_history\" function\n",
        "\n",
        "\n",
        "\n"
      ]
    },
    {
      "cell_type": "code",
      "metadata": {
        "id": "faRcyrOLrVNt"
      },
      "source": [
        "import matplotlib . pyplot as plt"
      ],
      "execution_count": 54,
      "outputs": []
    },
    {
      "cell_type": "code",
      "metadata": {
        "id": "xRpjVVw0rVQk"
      },
      "source": [
        "def show_train_history ( train_history , train , validation ):\n",
        "      plt . plot ( train_history . history [ train ])\n",
        "      plt . plot ( train_history . history [ validation])\n",
        "      plt . title ('Train History') \n",
        "      plt . ylabel ( train )\n",
        "      plt . xlabel ('Epoch')\n",
        "      plt . legend ([ 'train', 'validation'], loc ='upper left')\n",
        "      if train=='accuracy' and validation=='val_accuracy':\n",
        "            plt.ylim([0.5, 1])\n",
        "      else:\n",
        "            plt.ylim([0, 0.5])\n",
        "\n",
        "      plt.show()"
      ],
      "execution_count": 55,
      "outputs": []
    },
    {
      "cell_type": "code",
      "metadata": {
        "colab": {
          "base_uri": "https://localhost:8080/",
          "height": 295
        },
        "id": "O0N16Mx7bW4Q",
        "outputId": "a0149998-01c8-4f77-bf55-59dbc397dfbc"
      },
      "source": [
        "show_train_history ( train_history ,'accuracy', 'val_accuracy') #accuracy plot"
      ],
      "execution_count": 56,
      "outputs": [
        {
          "output_type": "display_data",
          "data": {
            "image/png": "[encoded data removed]",
            "text/plain": [
              "<Figure size 432x288 with 1 Axes>"
            ]
          },
          "metadata": {
            "tags": [],
            "needs_background": "light"
          }
        }
      ]
    },
    {
      "cell_type": "code",
      "metadata": {
        "colab": {
          "base_uri": "https://localhost:8080/",
          "height": 295
        },
        "id": "dABvjxSG9ep9",
        "outputId": "0b3a9246-eba3-4631-c87e-9e63f3e8b1dc"
      },
      "source": [
        "show_train_history ( train_history ,'loss', 'val_loss') #loss plot"
      ],
      "execution_count": 57,
      "outputs": [
        {
          "output_type": "display_data",
          "data": {
            "image/png": "[encoded data removed]",
            "text/plain": [
              "<Figure size 432x288 with 1 Axes>"
            ]
          },
          "metadata": {
            "tags": [],
            "needs_background": "light"
          }
        }
      ]
    },
    {
      "cell_type": "code",
      "metadata": {
        "colab": {
          "base_uri": "https://localhost:8080/"
        },
        "id": "h3a1PuVSM6HM",
        "outputId": "e4da5035-2765-47ba-d1da-9862c97144e5"
      },
      "source": [
        "print(test_acc)"
      ],
      "execution_count": 58,
      "outputs": [
        {
          "output_type": "stream",
          "text": [
            "0.977400004863739\n"
          ],
          "name": "stdout"
        }
      ]
    },
    {
      "cell_type": "markdown",
      "metadata": {
        "id": "Vbo9EFtqEvit"
      },
      "source": [
        "*Predict*\n",
        "\n",
        "* Visualize Confusion Matrix"
      ]
    },
    {
      "cell_type": "code",
      "metadata": {
        "colab": {
          "base_uri": "https://localhost:8080/",
          "height": 350
        },
        "id": "unQYhvkJE5ra",
        "outputId": "fa3a844a-fcd4-4944-9ad0-cda564874e35"
      },
      "source": [
        "from sklearn.metrics import classification_report, confusion_matrix\n",
        "import numpy as np\n",
        "import seaborn as sns\n",
        "\n",
        "\n",
        "predict=np.argmax(model.predict(test_images), axis=-1)\n",
        "predict_classes=predict.reshape(len(test_images))\n",
        "\n",
        "confusion = confusion_matrix(test_labels, predict_classes)\n",
        "#print(confusion)\n",
        "f, ax = plt.subplots(figsize=(5,5))\n",
        "sns.heatmap(confusion,annot = True, linewidths=0.5,linecolor=\"black\",fmt=\".0f\",ax=ax)\n",
        "plt.xlabel(\"Predictions\")\n",
        "plt.ylabel(\"Actual\")\n",
        "plt.title(\"Confusion Matrix for Neutral Network\")\n",
        "plt.show()\n",
        "\n",
        "#print(len(predict_classes))"
      ],
      "execution_count": 59,
      "outputs": [
        {
          "output_type": "display_data",
          "data": {
            "image/png": "[encoded data removed]",
            "text/plain": [
              "<Figure size 360x360 with 2 Axes>"
            ]
          },
          "metadata": {
            "tags": [],
            "needs_background": "light"
          }
        }
      ]
    },
    {
      "cell_type": "markdown",
      "metadata": {
        "id": "KUThhwzw-V0U"
      },
      "source": [
        "*Plot 5 random images from test set with their predictions*\n",
        "(just for a trial)"
      ]
    },
    {
      "cell_type": "code",
      "metadata": {
        "colab": {
          "base_uri": "https://localhost:8080/",
          "height": 1000
        },
        "id": "BLq6bWNw9qnK",
        "outputId": "c8c96b25-99bf-4b5f-b27b-3e575a00a18a"
      },
      "source": [
        "n_images = 5\n",
        "test_images = test_images[:n_images]\n",
        "predictions = model(test_images)\n",
        "\n",
        "# Display image and model prediction.\n",
        "for i in range(n_images):\n",
        "    plt.imshow(np.reshape(test_images[i], [28, 28]), cmap='gray')\n",
        "    plt.show()\n",
        "    print(\"Model prediction: %i\" % np.argmax(predictions.numpy()[i]))"
      ],
      "execution_count": 60,
      "outputs": [
        {
          "output_type": "display_data",
          "data": {
            "image/png": "[encoded data removed]",
            "text/plain": [
              "<Figure size 432x288 with 1 Axes>"
            ]
          },
          "metadata": {
            "tags": [],
            "needs_background": "light"
          }
        },
        {
          "output_type": "stream",
          "text": [
            "Model prediction: 7\n"
          ],
          "name": "stdout"
        },
        {
          "output_type": "display_data",
          "data": {
            "image/png": "[encoded data removed]",
            "text/plain": [
              "<Figure size 432x288 with 1 Axes>"
            ]
          },
          "metadata": {
            "tags": [],
            "needs_background": "light"
          }
        },
        {
          "output_type": "stream",
          "text": [
            "Model prediction: 2\n"
          ],
          "name": "stdout"
        },
        {
          "output_type": "display_data",
          "data": {
            "image/png": "[encoded data removed]",
            "text/plain": [
              "<Figure size 432x288 with 1 Axes>"
            ]
          },
          "metadata": {
            "tags": [],
            "needs_background": "light"
          }
        },
        {
          "output_type": "stream",
          "text": [
            "Model prediction: 1\n"
          ],
          "name": "stdout"
        },
        {
          "output_type": "display_data",
          "data": {
            "image/png": "[encoded data removed]",
            "text/plain": [
              "<Figure size 432x288 with 1 Axes>"
            ]
          },
          "metadata": {
            "tags": [],
            "needs_background": "light"
          }
        },
        {
          "output_type": "stream",
          "text": [
            "Model prediction: 0\n"
          ],
          "name": "stdout"
        },
        {
          "output_type": "display_data",
          "data": {
            "image/png": "[encoded data removed]",
            "text/plain": [
              "<Figure size 432x288 with 1 Axes>"
            ]
          },
          "metadata": {
            "tags": [],
            "needs_background": "light"
          }
        },
        {
          "output_type": "stream",
          "text": [
            "Model prediction: 4\n"
          ],
          "name": "stdout"
        }
      ]
    }
  ]
}